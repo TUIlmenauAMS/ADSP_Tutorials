{
  "cells": [
    {
      "cell_type": "markdown",
      "metadata": {
        "id": "JWoN4dgEdL0-"
      },
      "source": [
        "<center>\n",
        "    <img src=\"https://github.com/TUIlmenauAMS/ADSP_Tutorials/blob/master/images/adsp_logo.png?raw=1\">\n",
        "</center>\n",
        "\n",
        "### Prof. Dr. -Ing. Gerald Schuller <br> Jupyter Notebook: Renato Profeta\n"
      ]
    },
    {
      "cell_type": "markdown",
      "metadata": {
        "id": "ASE8FhZbdL1B"
      },
      "source": [
        "# The z-Transform"
      ]
    },
    {
      "cell_type": "code",
      "execution_count": null,
      "metadata": {
        "hide_input": true,
        "id": "jAWnYHkVdL1C",
        "outputId": "3d7cad06-66c1-498a-83ba-c02a998ad8e7"
      },
      "outputs": [
        {
          "data": {
            "text/html": [
              "<iframe width=\"560\" height=\"315\" src=\"https://www.youtube.com/embed/pkY3RfUrGsM\" frameborder=\"0\" allow=\"accelerometer; encrypted-media; gyroscope; picture-in-picture\" allowfullscreen></iframe>\n"
            ],
            "text/plain": [
              "<IPython.core.display.HTML object>"
            ]
          },
          "metadata": {},
          "output_type": "display_data"
        }
      ],
      "source": [
        "%%html\n",
        "<iframe width=\"560\" height=\"315\" src=\"https://www.youtube.com/embed/pkY3RfUrGsM\" frameborder=\"0\" allow=\"accelerometer; encrypted-media; gyroscope; picture-in-picture\" allowfullscreen></iframe>"
      ]
    },
    {
      "cell_type": "markdown",
      "metadata": {
        "id": "vh4XXyZhdL1D"
      },
      "source": [
        "The z-Transform is a more general transform than the Fourier transform, and we will use it to obtain perfect reconstruction in filter banks and wavelets. Hence we will now look at the effects of sampling and some more tools in the z-domain.\n",
        "\n",
        "Since we usually deal with causal systems in practice, we use the **1-sided z-Transform**, defined as\n",
        "\n",
        "$$ \\large\n",
        "X(z)=\\sum_ {n=0} ^\\infty x(n)z^{-n}\n",
        "$$    \n",
        "  \n",
        "Observe this simply takes our sequence $x(n)$ and **turns it into the polynomial** $X(z)$.\n",
        "\n",
        "First observe that we get our usual frequency response (the Discrete Time Fourier Transform for a causal signal, starting at n=0) if we evaluate the z-tranform along the unit circle in the z-domain,\n",
        "\n",
        "$$z=e^{j\\Omega}$$\n",
        "\n",
        "This connects the z-Transform with the DTFT, except for the sample index n, which for the so-called one-side z-Tranform starts at n=0, and for the DTFT starts at $n=-\\infty$.\n",
        "\n",
        "In general, we can write complex variable z with an angle and a magnitude,\n",
        "\n",
        "$$\\large\n",
        "z=r\\cdot e^{j\\Omega}$$\n",
        "\n",
        "where we can interpret the $\\Omega$ as the **normalized angular frequency**, and the $r$ a damping factor for an exponentially decaying oscillation, if $r<1$ (or exponentially growing if $r>1$.\n",
        "\n",
        "**Observe**: This damping factor is **not** in the DTFT. This means in the z-Transform we can have a converging sum of the transform even for unstable signals or system, by just choosing r large enough! This means the **Region of Convergence** (ROC) just becomes smaller. Remember, in the z-transform sum we have $z^{-1}=\\frac{1}{r}\\cdot e^{-j\\Omega}$."
      ]
    },
    {
      "cell_type": "code",
      "execution_count": null,
      "metadata": {
        "hide_input": true,
        "id": "tvKekNBsdL1E",
        "outputId": "d7210ced-bf6f-4705-d1de-f0de7a88680c"
      },
      "outputs": [
        {
          "data": {
            "text/html": [
              "<iframe width=\"560\" height=\"315\" src=\"https://www.youtube.com/embed/SCsSYp91CA0\" frameborder=\"0\" allow=\"accelerometer; encrypted-media; gyroscope; picture-in-picture\" allowfullscreen></iframe>\n"
            ],
            "text/plain": [
              "<IPython.core.display.HTML object>"
            ]
          },
          "metadata": {},
          "output_type": "display_data"
        }
      ],
      "source": [
        "%%html\n",
        "<iframe width=\"560\" height=\"315\" src=\"https://www.youtube.com/embed/SCsSYp91CA0\" frameborder=\"0\" allow=\"accelerometer; encrypted-media; gyroscope; picture-in-picture\" allowfullscreen></iframe>"
      ]
    },
    {
      "cell_type": "markdown",
      "metadata": {
        "id": "v-S_4nVVdL1E"
      },
      "source": [
        "**Recommended reading:**\n",
        "Alan V. Oppenheim, Ronald W. Schafer: “Discrete Time Signal Processing”, Prentice Hall.\n"
      ]
    },
    {
      "cell_type": "code",
      "execution_count": null,
      "metadata": {
        "hide_input": true,
        "id": "TMN-Ldj7dL1F",
        "outputId": "fb0b4be5-5152-4f4b-c83b-7e229d1dba97"
      },
      "outputs": [
        {
          "data": {
            "text/html": [
              "<iframe src='https://ocw.mit.edu/courses/electrical-engineering-and-computer-science/6-341-discrete-time-signal-processing-fall-2005/', width=900, height=400></iframe>\n"
            ],
            "text/plain": [
              "<IPython.core.display.HTML object>"
            ]
          },
          "metadata": {},
          "output_type": "display_data"
        }
      ],
      "source": [
        "%%html\n",
        "<iframe src='https://ocw.mit.edu/courses/electrical-engineering-and-computer-science/6-341-discrete-time-signal-processing-fall-2005/', width=900, height=400></iframe>"
      ]
    },
    {
      "cell_type": "markdown",
      "metadata": {
        "id": "hNHZboMFdL1F"
      },
      "source": [
        "## z-Transform Properties"
      ]
    },
    {
      "cell_type": "markdown",
      "metadata": {
        "id": "qU7IDvoPdL1G"
      },
      "source": [
        "z-Transform definition:\n",
        "\n",
        "$$ \\large\n",
        "x(n) \\rightarrow \\sum _{n=0} ^ \\infty x(n) \\cdot z^{-n} =: X(z)\n",
        "$$\n",
        "\n",
        "The z-transform turns a sequence into a polynomial in z.\n",
        "\n",
        "Example: $x(n)=[2,4,3,1]$\n",
        "\n",
        "$$X(z)=2+4z^{-1}+3z^{-2}+z^{-3}$$"
      ]
    },
    {
      "cell_type": "code",
      "execution_count": null,
      "metadata": {
        "hide_input": true,
        "id": "sR3lkYkGdL1G",
        "outputId": "bc0ea911-265b-433a-c5ba-a12658e4c5dc"
      },
      "outputs": [
        {
          "data": {
            "text/html": [
              "<iframe width=\"560\" height=\"315\" src=\"https://www.youtube.com/embed/YPU8FB3qSgY\" frameborder=\"0\" allow=\"accelerometer; encrypted-media; gyroscope; picture-in-picture\" allowfullscreen></iframe>\n"
            ],
            "text/plain": [
              "<IPython.core.display.HTML object>"
            ]
          },
          "metadata": {},
          "output_type": "display_data"
        }
      ],
      "source": [
        "%%html\n",
        "<iframe width=\"560\" height=\"315\" src=\"https://www.youtube.com/embed/YPU8FB3qSgY\" frameborder=\"0\" allow=\"accelerometer; encrypted-media; gyroscope; picture-in-picture\" allowfullscreen></iframe>"
      ]
    },
    {
      "cell_type": "markdown",
      "metadata": {
        "id": "AtBNKu0mdL1G"
      },
      "source": [
        "### Shift Property"
      ]
    },
    {
      "cell_type": "markdown",
      "metadata": {
        "id": "YmsZetNXdL1G"
      },
      "source": [
        "Take two causal sequences (causal means sample value 0 for negative indices): Sequence x(n), and x(n-1), which is the same sequence but delayed by one sample. Then their z-transforms are:  \n",
        "    \n",
        "$$ \\large\n",
        "x(n) \\rightarrow \\sum _ {n=0 }^ \\infty x(n) \\cdot z^{-n} =: X(z)$$\n",
        "    \n",
        "$$ \\large\n",
        "x(n-1) \\rightarrow \\sum _{n=0 }^ \\infty x(n-1) \\cdot z^{-n} =\\sum_{n=1} ^ \\infty x(n-1) \\cdot z^{-n} =\n",
        "$$    \n",
        "\n",
        "Use the index substitution, $n' \\leftarrow n-1$ or $n'+1\\leftarrow n$ to get rid of the \"$n-1$\" in the transform:\n",
        "\n",
        "\n",
        "$$ \\large\n",
        "=\\sum _{n'=0} ^\\infty x(n') \\cdot z^{-(n'+1)} = z^{-1} \\cdot  \\sum_ {n'=0} ^\\infty x(n') \\cdot z^{-n'} = X(z) \\cdot z^{-1}\n",
        "$$<br>\n",
        "\n",
        "This shows that a **delay by 1 sample** in the signal sequence (time domain) corresponds to the **multiplication with** $z^{-1}$ in the z-domain:\n",
        "\n",
        "$$\\large x(n)\\rightarrow X(z)$$\n",
        "$$\\large x(n-1) \\rightarrow X(z)\\cdot z^{-1}$$"
      ]
    },
    {
      "cell_type": "code",
      "execution_count": null,
      "metadata": {
        "hide_input": true,
        "id": "bGkAZgQwdL1H",
        "outputId": "0e5fe884-aba0-48f3-ef38-8c8f63a6157e"
      },
      "outputs": [
        {
          "data": {
            "text/html": [
              "<iframe width=\"560\" height=\"315\" src=\"https://www.youtube.com/embed/U17KDyOI58I\" frameborder=\"0\" allow=\"accelerometer; encrypted-media; gyroscope; picture-in-picture\" allowfullscreen></iframe>\n"
            ],
            "text/plain": [
              "<IPython.core.display.HTML object>"
            ]
          },
          "metadata": {},
          "output_type": "display_data"
        }
      ],
      "source": [
        "%%html\n",
        "<iframe width=\"560\" height=\"315\" src=\"https://www.youtube.com/embed/U17KDyOI58I\" frameborder=\"0\" allow=\"accelerometer; encrypted-media; gyroscope; picture-in-picture\" allowfullscreen></iframe>"
      ]
    },
    {
      "cell_type": "markdown",
      "metadata": {
        "id": "zBGJRJuMdL1H"
      },
      "source": [
        "**Example:**\n",
        "Signal:\n",
        "$x_0=[1,2,3]$ => $X_0(z)=1+2z^{-1}+3z^{-2}$\n",
        "\n",
        "Signal, delayed by 1 sampling period:\n",
        "\n",
        "$x_1=[0,1,2,3]=>X_1(z)=0+1z^{-1}+2z^{-2}+3z^{-3}=$\n",
        "\n",
        "In the z-domain the delay shows up as multiplication with $z^{-1}$,\n",
        "\n",
        "$$=X_0(z).z^{-1}$$"
      ]
    },
    {
      "cell_type": "markdown",
      "metadata": {
        "id": "CduF2vdVdL1H"
      },
      "source": [
        "Related to the shift property is the z-transform of the shifted unit pulse. The unit pulse is defined as\n",
        "\n",
        "$$\\large\n",
        "\\Delta \\left ( n \\right )  =\\left ( \\matrix {{1 ,  i f  n =0} \\\\ {0 ,  e l s e}} \\right )$$\n",
        "\n",
        "so it is just a zero sequence with a 1 at time 0.\n",
        "\n",
        "Its z-Transform is then:\n",
        "\n",
        "$$\\large \\Delta(n)\\rightarrow 1$$\n",
        "\n",
        "The z-transform of the shifted unit pulse is:\n",
        "\n",
        "$$\\large \\Delta(n-d)\\rightarrow z^{-d}$$\n",
        "\n",
        "Shifted by d samples.\n",
        "\n",
        "The “**unit step**” function is defined as:\n",
        "\n",
        "$$\\large u\\left ( n \\right )  =\\left ( \\matrix {{1 ,  i f  n \\geq 0} \\\\ {0 ,  e l s e}} \\right )$$"
      ]
    },
    {
      "cell_type": "markdown",
      "metadata": {
        "id": "1cQOGGp_dL1H"
      },
      "source": [
        "### Linearity"
      ]
    },
    {
      "cell_type": "markdown",
      "metadata": {
        "id": "DYolslJEdL1I"
      },
      "source": [
        "$$ \\large\n",
        "a \\cdot x(n) \\rightarrow a \\cdot X(z) $$\n",
        "\n",
        "$$\\large x(n)+y(n)\\rightarrow X(z)+Y(z)$$"
      ]
    },
    {
      "cell_type": "markdown",
      "metadata": {
        "id": "qESkDg20dL1I"
      },
      "source": [
        "### Convolution"
      ]
    },
    {
      "cell_type": "markdown",
      "metadata": {
        "id": "cWDSeauFdL1I"
      },
      "source": [
        "$$\\large\n",
        "x(n)*y(n)\\rightarrow X(z)\\cdot Y(z)$$\n",
        "\n",
        "**The z-transform turns a convolution into a multiplication.**\n",
        "\n",
        "Remember: the convolution is defined as:\n",
        "\n",
        "$$ \\large\n",
        "x(n)*y(n)=\\sum _ {m= -\\infty} ^ \\infty x(m) \\cdot y(n-m)\n",
        "$$\n",
        "\n",
        "This is because the convolution of 2 sequences behave in the same way as the multiplication of 2 polynomials (the z-transform) of these sequences. This is one of the main advantages of the z-Transform, since it turns convolution into a simpler multiplication (which is in principle invertible)."
      ]
    },
    {
      "cell_type": "markdown",
      "metadata": {
        "id": "VeDUpLVydL1I"
      },
      "source": [
        "## Example z-Transform"
      ]
    },
    {
      "cell_type": "code",
      "execution_count": null,
      "metadata": {
        "hide_input": true,
        "id": "90taBnnidL1I",
        "outputId": "d3e93e75-2bce-42ec-970c-f30b5b17c0e5"
      },
      "outputs": [
        {
          "data": {
            "text/html": [
              "<iframe width=\"560\" height=\"315\" src=\"https://www.youtube.com/embed/9XRlk27e9zU\" frameborder=\"0\" allow=\"accelerometer; encrypted-media; gyroscope; picture-in-picture\" allowfullscreen></iframe>\n"
            ],
            "text/plain": [
              "<IPython.core.display.HTML object>"
            ]
          },
          "metadata": {},
          "output_type": "display_data"
        }
      ],
      "source": [
        "%%html\n",
        "<iframe width=\"560\" height=\"315\" src=\"https://www.youtube.com/embed/9XRlk27e9zU\" frameborder=\"0\" allow=\"accelerometer; encrypted-media; gyroscope; picture-in-picture\" allowfullscreen></iframe>"
      ]
    },
    {
      "cell_type": "markdown",
      "metadata": {
        "id": "Cu3whKgtdL1J"
      },
      "source": [
        "Exponential decaying sequence: $x(n)=p^{n}$ for n=0,1,..., meaning the sequence\n",
        "\n",
        "$$\\large 1,p,p^{2},p^{3},...$$\n",
        "\n",
        "$$\\large \\rightarrow X(z)=\\sum _{n=0}^{\\infty}p^n \\cdot z^{-n}$$\n",
        "\n",
        "**Remember:** we had a closed form solution for this type of **geometric sums:**\n",
        "\n",
        "$$S= \\sum_ {k = 0}^{N - 1} c^k$$\n",
        "\n",
        "its solution was:\n",
        "\n",
        "$$\n",
        "S =\\frac{c^N - 1}  {c - 1}\n",
        "$$\n",
        "\n",
        "Now we have an infinite sum, which means N goes towards infinity. But we have the expression $c^N$ in the solution. If $\\mid c\\mid <1$, then this goes to zero $c^N\\rightarrow 0$. Now we have $c=p\\cdot z^{-1}$. Hence, if $\\mid p\\cdot z^{-1}\\mid <1$ we get\n",
        "\n",
        "$$\\large\n",
        "\\rightarrow X(z)=\\frac{1}{1 -p \\cdot z^{-1}} = \\frac{z}  {z-p}\n",
        "$$\n",
        "\n",
        "Observe that this fraction has a **pole** at position z=p, and a **zero** at position z=0. Hence if know the pole position, we know p, and if we know p we know the time sequence. So the location of the pole gives us very important information about the signal.\n",
        "\n",
        "Keep in mind that this solution is only valid for all p which fullfill $\\mid  p\\cdot z^{-1}\\mid <1$. We see that this is true for $\\mid z\\mid >\\mid p\\mid $. This is also called the “**Region of Convergence” (ROC)**. The ROC is connected to the resulting stability of the system or signal.\n",
        "\n",
        "The region of convergence is outside the pole locations. If the region of convergence includes the unit circle, we have a stable system. This means: if the **poles are inside the unit circle**, we have a **stable system**.\n",
        "\n",
        "The sum of x(n) **converges** (we get the sum if we set $z=1$) if **abs(p)<1**. In this case we also say that the signal or system is **stable** (meaning we obtain a bounded output for a bounded input, so-called “BIBO stability”). In this case we see that the resulting pole of our z-transform is **inside the unit circle**. If abs(p)>1, we have an exponential growth, which is basically an “exploding” signal or system (meaning the output grows towards infinity), hence **unstable**.\n",
        "\n",
        "In general we say that a system or a signal is **stable**, if the **poles** of its z-transform are **inside the unit circle** in the z-domain, or **unstable** if **at least one pole is outside the unit circle** (it will exponentially grow).\n",
        "\n",
        "These are basic properties, which can be used to derive z-transforms of more complicated expressions, and they can also be used to obtain an inverse z-transform, by inspection.\n",
        "\n",
        "For instance if we see a fraction with a **pole** in the z-Transform, we know that the underlying time sequence has an **exponential decay or oscillation** in it.\n",
        "\n",
        "Observe that we can obtain a real valued decayed oscillation if we have 2 poles, each the conjugate complex of the other, or one with $+\\Omega$ and one with $-\\Omega$. In this way, we cancel the imaginary part.\n",
        "\n",
        "One of the main differences compared to the Discrete Time Fourier Transform (DTFT): With the z-transform we can see if a signal or system is stable by looking at the position of the poles in the z-domain. This is not possible for the DTFT, since there we don't know the positions of the poles.\n",
        "\n",
        "Now take a look at our down sampled signal from a previous notebook:\n",
        "$$ \\large\n",
        "x^d \\left ( n \\right )  =x \\left ( n \\right )  \\cdot \\Delta_N \\left ( n \\right )  =x  ( n  ) \\cdot \\frac{1} {N}  \\sum _ {k = 0}^ {N - 1} e^{j \\frac{2 \\pi} {N }\\cdot k \\cdot n}\n",
        "$$\n",
        "\n",
        "Now we can z-transform it\n",
        "\n",
        "\n",
        "$$ \\large\n",
        "\\sum _ {n=0} ^\\infty x^d \\left ( n \\right ) \\cdot z^{-n}  = \\sum_ {n=0}^ \\infty x  ( n  ) \\cdot \\frac{ 1} {N}  \\sum_ {k = 0} ^{N - 1} e^{j \\frac{2\\pi} {N} \\cdot k \\cdot n} \\cdot z^{ -n }\n",
        "$$\n",
        "\n",
        "Hence the effect of **multiplying our signal with the delta impulse train** in the z-domain is\n",
        "\n",
        "$$\\large\n",
        "X^d(z)=\\frac{1} {N} \\sum _{k=0} ^{N-1} X( e^{-j \\frac{2 \\pi} {N }\\cdot k} \\cdot z)\n",
        "$$\n",
        "\n",
        "Observe that here the aliasing components appear by multiplying $z$ with $e^{-j\\frac{2 \\pi}{N}\\cdot k}$, which in effect is a shift of the frequency.\n",
        "\n",
        "\n",
        "Remember from last time, the effect of the  **removal or re-insertion of the zeros** (changing the sampling rate) from or into the signal $x^d(n)$ at the higher sampling rate and $y(m)$ at the lower sampling rate in the z-domain is\n",
        "\n",
        "$$\\large\n",
        "Y(z)=X^{d} \\cdot \\left( z^{\\frac{1}{N}}\\right)$$"
      ]
    },
    {
      "cell_type": "markdown",
      "metadata": {
        "id": "_c8RTfpVdL1J"
      },
      "source": [
        "### Recommended"
      ]
    },
    {
      "cell_type": "code",
      "execution_count": null,
      "metadata": {
        "hide_input": true,
        "id": "XhRvUfPOdL1J",
        "outputId": "039b1f7f-4eed-4b7f-f8b2-ec19018d3035"
      },
      "outputs": [
        {
          "data": {
            "text/html": [
              "<iframe width=\"560\" height=\"315\" src=\"https://www.youtube.com/embed/Nf2QBWC0hCQ\" frameborder=\"0\" allow=\"accelerometer; encrypted-media; gyroscope; picture-in-picture\" allowfullscreen></iframe>\n"
            ],
            "text/plain": [
              "<IPython.core.display.HTML object>"
            ]
          },
          "metadata": {},
          "output_type": "display_data"
        }
      ],
      "source": [
        "%%html\n",
        "<iframe width=\"560\" height=\"315\" src=\"https://www.youtube.com/embed/Nf2QBWC0hCQ\" frameborder=\"0\" allow=\"accelerometer; encrypted-media; gyroscope; picture-in-picture\" allowfullscreen></iframe>"
      ]
    },
    {
      "cell_type": "markdown",
      "metadata": {
        "id": "X3O79rgqdL1J"
      },
      "source": [
        "**z-Transform using Python**\n",
        "\n",
        "https://github.com/GuitarsAI/MRSP_Notebooks\n",
        "https://colab.research.google.com/github/TUIlmenauAMS/MRSP_Tutorials/blob/master/MSP_Multiresolution.ipynb\n",
        "\n",
        "section \"z-Transform\"."
      ]
    },
    {
      "cell_type": "code",
      "source": [
        "import sympy as sp\n",
        "import numpy as np\n",
        "z=sp.symbols('z')\n",
        "x=np.random.rand(6)\n",
        "print(\"x=\", x)\n",
        "X=np.polyval(np.flipud(x),z**(-1))\n",
        "print(X)\n",
        "X=sp.Poly(np.flipud(x), z**(-1))\n",
        "print(X)"
      ],
      "metadata": {
        "colab": {
          "base_uri": "https://localhost:8080/"
        },
        "id": "1LRhwMjbhGFV",
        "outputId": "631083d1-bf8f-4d6a-e4f9-f31b587cd2c9"
      },
      "execution_count": 12,
      "outputs": [
        {
          "output_type": "stream",
          "name": "stdout",
          "text": [
            "x= [0.30657706 0.03121895 0.89577717 0.25859978 0.66370957 0.73030217]\n",
            "0.306577061779645 + (0.031218953633778 + (0.895777165590803 + (0.258599783256757 + (0.663709571751108 + 0.730302169396114/z)/z)/z)/z)/z\n",
            "Poly(0.730302169396114*(1/z)**5 + 0.663709571751108*(1/z)**4 + 0.258599783256757*(1/z)**3 + 0.895777165590803*(1/z)**2 + 0.031218953633778*(1/z) + 0.306577061779645, 1/z, domain='RR')\n"
          ]
        }
      ]
    },
    {
      "cell_type": "code",
      "execution_count": null,
      "metadata": {
        "hide_input": true,
        "id": "wJPPqzEkdL1J",
        "outputId": "55de008a-8682-4da4-9339-386e113f4361"
      },
      "outputs": [
        {
          "data": {
            "text/html": [
              "<iframe width=\"560\" height=\"315\" src=\"https://www.youtube.com/embed/n4keW_vluJA\" frameborder=\"0\" allow=\"accelerometer; \n",
              "    encrypted-media; gyroscope; picture-in-picture\" allowfullscreen></iframe>\n"
            ],
            "text/plain": [
              "<IPython.core.display.HTML object>"
            ]
          },
          "metadata": {},
          "output_type": "display_data"
        }
      ],
      "source": [
        "%%html\n",
        "<iframe width=\"560\" height=\"315\" src=\"https://www.youtube.com/embed/n4keW_vluJA\" frameborder=\"0\" allow=\"accelerometer;\n",
        "    encrypted-media; gyroscope; picture-in-picture\" allowfullscreen></iframe>"
      ]
    },
    {
      "cell_type": "markdown",
      "metadata": {
        "id": "BZsEUXYydL1K"
      },
      "source": [
        "**Frequency Response: z-Transform and the DTFT**"
      ]
    },
    {
      "cell_type": "code",
      "execution_count": null,
      "metadata": {
        "hide_input": true,
        "id": "-qI43Ih5dL1K",
        "outputId": "ec0126e8-a666-4563-a7fd-5ad94f83e554"
      },
      "outputs": [
        {
          "data": {
            "text/html": [
              "<iframe width=\"560\" height=\"315\" src=\"https://www.youtube.com/embed/NMGtwYE8veQ\" frameborder=\"0\" allow=\"accelerometer; encrypted-media; gyroscope; picture-in-picture\" allowfullscreen></iframe>\n"
            ],
            "text/plain": [
              "<IPython.core.display.HTML object>"
            ]
          },
          "metadata": {},
          "output_type": "display_data"
        }
      ],
      "source": [
        "%%html\n",
        "<iframe width=\"560\" height=\"315\" src=\"https://www.youtube.com/embed/NMGtwYE8veQ\" frameborder=\"0\" allow=\"accelerometer; encrypted-media; gyroscope; picture-in-picture\" allowfullscreen></iframe>"
      ]
    }
  ],
  "metadata": {
    "kernelspec": {
      "display_name": "Python 3",
      "language": "python",
      "name": "python3"
    },
    "language_info": {
      "codemirror_mode": {
        "name": "ipython",
        "version": 3
      },
      "file_extension": ".py",
      "mimetype": "text/x-python",
      "name": "python",
      "nbconvert_exporter": "python",
      "pygments_lexer": "ipython3",
      "version": "3.7.5"
    },
    "livereveal": {
      "rise": {
        "height": "90%",
        "width": "90%"
      },
      "scroll": true,
      "theme": "sky",
      "transition": "zoom"
    },
    "colab": {
      "provenance": []
    }
  },
  "nbformat": 4,
  "nbformat_minor": 0
}