{
  "cells": [
    {
      "cell_type": "markdown",
      "metadata": {
        "id": "T80f7wFpvaLA"
      },
      "source": [
        "<center>\n",
        "    <img src=\"https://github.com/TUIlmenauAMS/ADSP_Tutorials/blob/master/images/adsp_logo.png?raw=1\">\n",
        "</center>\n",
        "\n",
        "### Prof. Dr. -Ing. Gerald Schuller <br> Jupyter Notebook: Renato Profeta\n"
      ]
    },
    {
      "cell_type": "markdown",
      "metadata": {
        "id": "5qt12xgovaLE"
      },
      "source": [
        "# Filters"
      ]
    },
    {
      "cell_type": "code",
      "execution_count": null,
      "metadata": {
        "hide_input": true,
        "id": "fFoCU7dRvaLF",
        "outputId": "c1e0cccc-82d2-48cc-a752-d9c404cdc545"
      },
      "outputs": [
        {
          "data": {
            "text/html": [
              "<iframe width=\"560\" height=\"315\" src=\"https://www.youtube.com/embed/5nw86XtKvyc\" frameborder=\"0\" allow=\"accelerometer; encrypted-media; gyroscope; picture-in-picture\" allowfullscreen></iframe>\n"
            ],
            "text/plain": [
              "<IPython.core.display.HTML object>"
            ]
          },
          "metadata": {},
          "output_type": "display_data"
        }
      ],
      "source": [
        "%%html\n",
        "<iframe width=\"560\" height=\"315\" src=\"https://www.youtube.com/embed/5nw86XtKvyc\" frameborder=\"0\" allow=\"accelerometer; encrypted-media; gyroscope; picture-in-picture\" allowfullscreen></iframe>"
      ]
    },
    {
      "cell_type": "markdown",
      "metadata": {
        "id": "N1Cr9MLmvaLJ"
      },
      "source": [
        "Filters are linear, time-invariant systems. This means they fulfil the following properties:\n",
        "\n",
        "If $F(x(n))$ is our filter function of input signal $x(n)$, then we have:\n",
        "\n",
        "**Linearity:** for 2 signals $x_1(n)$ and $x_2(n)$,\n",
        "\n",
        "$$\\large\n",
        "F( x_1(n)+x_2(n) )=F( x_1(n) )+F( x_2(n) )$$\n",
        "\n",
        "With a factor $a$:\n",
        "\n",
        "$$\\large F( a \\cdot x(n) )= a \\cdot F( x(n) )$$\n",
        "\n",
        "which means we can **“draw out” sums and factors out of our function.**\n",
        "\n",
        "**Time-Invariance:** if\n",
        "\n",
        "$$\\large y(n)=F(x(n))$$\n",
        "\n",
        "then we have, for a delay of $n_0$:\n",
        "\n",
        "$$\\large\n",
        "y(n+n_0)=F(x(n+n_0))\n",
        "$$\n",
        "\n",
        "which means our function **stays the same no matter when** we apply it.\n"
      ]
    },
    {
      "cell_type": "markdown",
      "metadata": {
        "id": "aekKhN0wvaLK"
      },
      "source": [
        "## FIR Filters"
      ]
    },
    {
      "cell_type": "code",
      "execution_count": null,
      "metadata": {
        "hide_input": true,
        "id": "fmXxWByBvaLK",
        "outputId": "50641853-00dc-4c7c-adce-86da4609b226"
      },
      "outputs": [
        {
          "data": {
            "text/html": [
              "<iframe width=\"560\" height=\"315\" src=\"https://www.youtube.com/embed/BO_Baz1EbXc\" frameborder=\"0\" allow=\"accelerometer; encrypted-media; gyroscope; picture-in-picture\" allowfullscreen></iframe>\n"
            ],
            "text/plain": [
              "<IPython.core.display.HTML object>"
            ]
          },
          "metadata": {},
          "output_type": "display_data"
        }
      ],
      "source": [
        "%%html\n",
        "<iframe width=\"560\" height=\"315\" src=\"https://www.youtube.com/embed/BO_Baz1EbXc\" frameborder=\"0\" allow=\"accelerometer; encrypted-media; gyroscope; picture-in-picture\" allowfullscreen></iframe>"
      ]
    },
    {
      "cell_type": "markdown",
      "metadata": {
        "id": "iqHtEQuFvaLL"
      },
      "source": [
        "A simple Finite Impulse Response (**FIR**) filter has a difference equation like the following, with x(n) the input of our filter, and y(n) its output:\n",
        "\n",
        "$$\\large\n",
        "y(n)=\\sum _ {m=0}^ L b(m) x(n-m)\n",
        "$$\n",
        "\n",
        "Observe that this is the **convolution** of the signal x(n) with b(n). Here, the b(m) are the coefficients of the filter, or its **impulse response**. These are commonly also referred to as **“taps”**, because this system can be viewed as “tapping” a delay line, as seen in the picture below.\n",
        "\n",
        "This difference equation is also how usually filters are implemented in Matlab or Python and other programming languages. A typical block diagram of an FIR filter is as follows:\n",
        "\n",
        "<center>\n",
        "    <img src=\"https://github.com/TUIlmenauAMS/ADSP_Tutorials/blob/master/images/fir_filter_diag.PNG?raw=1\" width=\"500\">\n",
        "</center>\n",
        "<font size=\"2\">      \n",
        "(From: http://en.wikipedia.org/wiki/Finite_impulse_response)\n",
        "</font>\n",
        "\n",
        "Observe that here the blocks with $z^{-1}$ are implemented with a delay by 1 sampling interval, not a multiplication with $z^{-1}$, as we would in the z-domain!\n",
        "\n",
        "After the first delay block $z^{-1}$ we have $x[n-1]$, after the second delay block we have $x[n-2]$, and so on. Each delay block “memorizes” the value from the left for one sample clock cycle, and releases it to the right at the next sample clock cycle.\n",
        "Hence they delay samples by 1 sample clock cycle.\n",
        "\n",
        "The z-transform of our difference equation of our convolution\n",
        "\n",
        "$$\\large\n",
        "y(n)=\\sum _ {m=0} ^L b(m) x(n-m)\n",
        "$$\n",
        "\n",
        " is (using the linearty of the z-Transform):\n",
        "\n",
        "$$\\large\n",
        "Y(z)= \\sum _{m=0} ^ L b(m) \\cdot z^{-m} \\cdot X(z)= X(z) \\cdot \\sum _ {m=0} ^ L b(m) \\cdot z^{-m}\n",
        "$$\n",
        "\n",
        "Now we can compute the **transfer function**, defined as the output divided by the input,\n",
        "\n",
        "$$\\large\n",
        "H(z):= \\frac{Y(z)} {X(z)}=\\sum _ {m=0} ^ L b(m) \\cdot z^{-m}\n",
        "$$\n",
        "\n",
        "**Observe**  that this is the z-transform of the coefficients b(m)! This is the **z-transform of the impulse response** of the FIR filter!"
      ]
    },
    {
      "cell_type": "markdown",
      "metadata": {
        "id": "5yx8vQZVvaLM"
      },
      "source": [
        "Now we can obtain the **frequency response** (so that we can see which frequencies are attenuated and which are not) from our transfer function of the filter by just replacing $z$ by $e^{j \\Omega}$:\n",
        "\n",
        "$$\\large\n",
        "H(e^{j\\Omega})=\\sum _{m=0} ^L b(m) \\cdot e^{-j\\Omega \\cdot m}\n",
        "$$\n",
        "\n",
        "Since $e^{j\\Omega}$ is a complex number, our frequency response $H$ is also complex. Hence is a complex number for each frequency $\\Omega$. Usually it is plotted as a **magnitude** plot and a **phase** plot over frequency. Its magnitude tells us the attenuation at each frequency, and the phase its phase shift for each frequency. Using those 2 plots or properties, we can also design our filters with desired properties (for instance a stop-band at given frequencies). The Matlab and Python  function to generate a magnitude and phase plot of a transfer function or signal is “freqz”, which we already saw."
      ]
    },
    {
      "cell_type": "markdown",
      "metadata": {
        "id": "XcnnoCkYvaLN"
      },
      "source": [
        "**Recommended**: https://github.com/GuitarsAI/MRSP_Notebooks - 03 Frequency Response"
      ]
    },
    {
      "cell_type": "code",
      "execution_count": null,
      "metadata": {
        "hide_input": true,
        "id": "gmrC52JZvaLO",
        "outputId": "b4623a1d-fbab-4daa-b3f0-f09a33d8d6ce"
      },
      "outputs": [
        {
          "data": {
            "text/html": [
              "<iframe width=\"560\" height=\"315\" src=\"https://www.youtube.com/embed/7XWrH9IV-EA\" frameborder=\"0\" allow=\"accelerometer; encrypted-media; gyroscope; picture-in-picture\" allowfullscreen></iframe>\n"
            ],
            "text/plain": [
              "<IPython.core.display.HTML object>"
            ]
          },
          "metadata": {},
          "output_type": "display_data"
        }
      ],
      "source": [
        "%%html\n",
        "<iframe width=\"560\" height=\"315\" src=\"https://www.youtube.com/embed/7XWrH9IV-EA\" frameborder=\"0\" allow=\"accelerometer; encrypted-media; gyroscope; picture-in-picture\" allowfullscreen></iframe>"
      ]
    },
    {
      "cell_type": "markdown",
      "metadata": {
        "id": "KljqthA6vaLO"
      },
      "source": [
        "## IIR Filters"
      ]
    },
    {
      "cell_type": "code",
      "execution_count": null,
      "metadata": {
        "hide_input": true,
        "id": "K9Dc0QnTvaLO",
        "outputId": "bd955cd4-2d8a-4b73-c23d-1c519dd97aae"
      },
      "outputs": [
        {
          "data": {
            "text/html": [
              "<iframe width=\"560\" height=\"315\" src=\"https://www.youtube.com/embed/82aPiJ4gegM\" frameborder=\"0\" allow=\"accelerometer; encrypted-media; gyroscope; picture-in-picture\" allowfullscreen></iframe>\n"
            ],
            "text/plain": [
              "<IPython.core.display.HTML object>"
            ]
          },
          "metadata": {},
          "output_type": "display_data"
        }
      ],
      "source": [
        "%%html\n",
        "<iframe width=\"560\" height=\"315\" src=\"https://www.youtube.com/embed/82aPiJ4gegM\" frameborder=\"0\" allow=\"accelerometer; encrypted-media; gyroscope; picture-in-picture\" allowfullscreen></iframe>"
      ]
    },
    {
      "cell_type": "markdown",
      "metadata": {
        "id": "5tVsRguivaLP"
      },
      "source": [
        "Their difference equation is:\n",
        "\n",
        "$$\\large\n",
        "\\begin{equation}\n",
        "y(n)= \\sum _{m=0} ^L b(m) \\cdot x(n-m)+ \\sum _ {r=1} ^R a(r) \\cdot y(n-r)\n",
        "\\end{equation}$$    \n",
        "\n",
        "(See also: Oppenheim, Schafer: “Discrete Time Signal Processing”, Chapter 6 in Ed. 1989)\n",
        "\n",
        "Here we have **2 convolutions**. Observe the feedback from the output y back to the input in this sum. Also observe that the feedback part starts with a delay of r=1. This is because we want to avoid so-called delayless loops. We cannot use the value y(n) before we computed it! Again, this difference equation is the usual implementation using Matlab or Octave or Python.\n",
        "\n",
        "The following image shows the corresponding block diagram of our filter,\n",
        "\n",
        "<center>\n",
        "    <img src=\"https://github.com/TUIlmenauAMS/ADSP_Tutorials/blob/master/images/Lecture7-2.PNG?raw=1\" width=\"500\">\n",
        "</center>\n",
        "\n",
        "\n",
        "Again, here the boxes with $z^{-1}$ symbolize a delay of 1 sampling period, and the triangles symbolize a multiplication with the factor written next to it.\n",
        "\n",
        "\n",
        "We can simplify this structure by combining the summations,<br><br>\n",
        "\n",
        "<center>\n",
        "    <img src=\"https://github.com/TUIlmenauAMS/ADSP_Tutorials/blob/master/images/Lecture7-3.PNG?raw=1\" width=\"500\">\n",
        "</center>\n",
        "\n",
        "The z-transform of its difference equation (1) is\n",
        "\n",
        "$$ \\large\n",
        "Y(z)= \\sum _{m=0} ^ L b(m) \\cdot X(z) \\cdot z^{-m} + \\sum _{r=1} a(r) \\cdot Y(z) \\cdot z^{-r}$$\n",
        "\n",
        "**Observe:** **Matlab and Octave** and **Python scipy.signal.lfilter** are defining the coefficients a with **opposite signs** as we and Oppenheim/Schafer are defining. See for instance “help filter” or “help(scipy.signal.lfilter)” in Python."
      ]
    },
    {
      "cell_type": "markdown",
      "metadata": {
        "id": "3RYegrUGvaLP"
      },
      "source": [
        "To obtain its transfer function, we first move the Y(z) to one side:\n",
        "\n",
        "$$\\large\n",
        "Y(z)(1-\\sum _ {r=1} ^R a(r) \\cdot z^{-r})= X(z) \\cdot \\sum _{m=0} ^ L b(m) \\cdot  z^{-m}\n",
        "$$\n",
        "\n",
        "Hence the resulting transfer function is\n",
        "\n",
        "$$ \\large\n",
        "H(z)=\\frac{Y(z)}  {X(z)}= \\frac{\\sum _ {m=0} ^L b(m)  \\cdot z^{-m}}{1-\\sum _ {r=1} ^ R a(r) \\cdot z^{-r}}\n",
        "$$\n",
        "\n",
        "\n",
        "**Observe:** With the help of the z-Transform we were able to find a closed form solution for the transfer function, even though we have a feedback loop in our system! This is a **big advantage** for the z-Transform.\n",
        "\n",
        "Here we can see that we obtain a polynomial in the **denominator** of our transfer function, and hence poles. And the filter can potentially become unstable! The zeros of this denominator polynomial become the poles of the transfer function. If these poles are all **inside the unit circle**, we have a **stable filter**! This also shows that we just need to design our coefficients a(n) such that the **poles are inside the unit circle for stabiltity**.\n"
      ]
    },
    {
      "cell_type": "markdown",
      "metadata": {
        "id": "ABmqhdquvaLP"
      },
      "source": [
        "## Combined FIR-IIR Structure used in the Python “lfilter” Function:"
      ]
    },
    {
      "cell_type": "code",
      "execution_count": null,
      "metadata": {
        "hide_input": true,
        "id": "VJT8GykivaLP",
        "outputId": "9be7ee29-5d82-43cd-be92-2b7991ba8b14"
      },
      "outputs": [
        {
          "data": {
            "text/html": [
              "<iframe width=\"560\" height=\"315\" src=\"https://www.youtube.com/embed/BwFKOX1_uOQ\" frameborder=\"0\" allow=\"accelerometer; encrypted-media; gyroscope; picture-in-picture\" allowfullscreen></iframe>\n"
            ],
            "text/plain": [
              "<IPython.core.display.HTML object>"
            ]
          },
          "metadata": {},
          "output_type": "display_data"
        }
      ],
      "source": [
        "%%html\n",
        "<iframe width=\"560\" height=\"315\" src=\"https://www.youtube.com/embed/BwFKOX1_uOQ\" frameborder=\"0\" allow=\"accelerometer; encrypted-media; gyroscope; picture-in-picture\" allowfullscreen></iframe>"
      ]
    },
    {
      "cell_type": "markdown",
      "metadata": {
        "id": "XFnM9Rq9vaLQ"
      },
      "source": [
        "Since a delay is a linear operator, we can shift it after a summation, and hence can combine the delay chain for the FIR and IIR part. This reduces the memory requirement for an implementation, and leads to the following structure,\n",
        "\n",
        "<center>\n",
        "    <br>\n",
        "    <img src=\"https://github.com/TUIlmenauAMS/ADSP_Tutorials/blob/master/images/diagram.png?raw=1\" width=\"400\">\n",
        "</center>"
      ]
    },
    {
      "cell_type": "markdown",
      "metadata": {
        "id": "WHFPGWUrvaLQ"
      },
      "source": [
        "## Filter Example"
      ]
    },
    {
      "cell_type": "code",
      "execution_count": null,
      "metadata": {
        "hide_input": true,
        "id": "vLqw4lpyvaLQ",
        "outputId": "ad17d146-a402-4b5e-bfd6-1ef057d471f0"
      },
      "outputs": [
        {
          "data": {
            "text/html": [
              "<iframe width=\"560\" height=\"315\" src=\"https://www.youtube.com/embed/KEByT7Y93Jw\" frameborder=\"0\" allow=\"accelerometer; encrypted-media; gyroscope; picture-in-picture\" allowfullscreen></iframe>\n"
            ],
            "text/plain": [
              "<IPython.core.display.HTML object>"
            ]
          },
          "metadata": {},
          "output_type": "display_data"
        }
      ],
      "source": [
        "%%html\n",
        "<iframe width=\"560\" height=\"315\" src=\"https://www.youtube.com/embed/KEByT7Y93Jw\" frameborder=\"0\" allow=\"accelerometer; encrypted-media; gyroscope; picture-in-picture\" allowfullscreen></iframe>"
      ]
    },
    {
      "cell_type": "markdown",
      "metadata": {
        "id": "TIrMTQZvvaLQ"
      },
      "source": [
        "Going back to our simple example of an exponential decaying signal, this shows how to implement it. We just need a system with a pole at position p. In the above equation we obtain it by setting b(0)=1 and a(1)=p. Hence we obtain a simple difference equation\n",
        "\n",
        "$$\\large\n",
        "y(n)=1\\cdot x(n)+p \\cdot y(n-1)$$\n",
        "\n",
        "Here you can see: if x(n) is the unit pulse, the output is the exponential decaying sequence:\n",
        "\n",
        "$$\\large\n",
        "1,p,p^{2},p^{3},...\n",
        "$$\n",
        "\n",
        "which is an infinitely long impulse response. Hence the name IIR.\n",
        "\n",
        "This can also be written in the form of a block diagram:\n",
        "\n",
        "<center>\n",
        "    <br>\n",
        "    <img src=\"https://github.com/TUIlmenauAMS/ADSP_Tutorials/blob/master/images/diagram2.png?raw=1\" width=\"400\">\n",
        "</center>\n",
        "\n",
        "(also compare it with the Python implementaion block diagram above, for $b[0]=1$ and $a[1]=p$).<br>\n",
        "In the z-domain this is\n",
        "\n",
        "$$\\large\n",
        "Y(z)=X(z)+p \\cdot z^{-1} \\cdot Y(z)$$\n",
        "\n",
        "\n",
        "$$\\large\n",
        "\\rightarrow H(z)=\\frac{Y(z)}{X(z)}= \\frac{1}  {1-p \\cdot z^{-1}}\n",
        "$$\n",
        "\n",
        "In this structure we can now see the feedback loop. Observe that this is the same as the z-Transform of our exponential series before. This means, when we transform this back to the time domain, we obtain an exponential function, which is the **filters impulse response**, which confirms what we just saw by using an impulse in the time domain for our filter. So the result of the inverse z-Transform of our transfer function is indeed,\n",
        "\n",
        "$$\\large\n",
        "1,p,p^{2},p^{3},...\n",
        "$$."
      ]
    },
    {
      "cell_type": "markdown",
      "metadata": {
        "id": "NU-B9PcGvaLR"
      },
      "source": [
        "### Computing the Resulting Frequency Response"
      ]
    },
    {
      "cell_type": "markdown",
      "metadata": {
        "id": "LlCVOvQWvaLR"
      },
      "source": [
        "**Example:** The Matlab or Octave or Python function “freqz” (we have a Python freqz function also in Moodle) can be used to plot the magnitude and phase plot of the transfer function of this filter. Its input are directly the coefficients a and b of the transfer function H(z), in the form:  ```freqz(B,A)```, where B and A are vectors containing the coefficients.\n",
        "\n",
        "If we choose a(1)=p=0.9 in our example, we obtain $A=[1,-0.9]$ and $B=[1].$"
      ]
    },
    {
      "cell_type": "code",
      "execution_count": null,
      "metadata": {
        "hide_input": true,
        "id": "2Lp36z7wvaLR",
        "outputId": "bce6e506-61d7-424a-d8d4-0f829ab9880e"
      },
      "outputs": [
        {
          "data": {
            "text/html": [
              "<iframe width=\"560\" height=\"315\" src=\"https://www.youtube.com/embed/43xAxBni44w\" frameborder=\"0\" allow=\"accelerometer; encrypted-media; gyroscope; picture-in-picture\" allowfullscreen></iframe>\n"
            ],
            "text/plain": [
              "<IPython.core.display.HTML object>"
            ]
          },
          "metadata": {},
          "output_type": "display_data"
        }
      ],
      "source": [
        "%%html\n",
        "<iframe width=\"560\" height=\"315\" src=\"https://www.youtube.com/embed/43xAxBni44w\" frameborder=\"0\" allow=\"accelerometer; encrypted-media; gyroscope; picture-in-picture\" allowfullscreen></iframe>"
      ]
    },
    {
      "cell_type": "code",
      "execution_count": 4,
      "metadata": {
        "id": "CXeWHjgzvaLR"
      },
      "outputs": [],
      "source": [
        "%matplotlib inline\n",
        "from scipy.signal import freqz\n",
        "import numpy as np\n",
        "import matplotlib.pyplot as plt\n",
        "from matplotlib.ticker import FuncFormatter, MultipleLocator"
      ]
    },
    {
      "cell_type": "code",
      "execution_count": 5,
      "metadata": {
        "id": "-FsCoBs6vaLR"
      },
      "outputs": [],
      "source": [
        "A=np.array([1,-0.9])\n",
        "B=np.array([1])\n",
        "w, h = freqz(B, A, worN=512, whole=False)"
      ]
    },
    {
      "cell_type": "code",
      "execution_count": 17,
      "metadata": {
        "id": "PBXdRPuMvaLS",
        "outputId": "e4a75026-76c2-4000-c2c3-d71683e40cbb",
        "colab": {
          "base_uri": "https://localhost:8080/",
          "height": 463
        }
      },
      "outputs": [
        {
          "output_type": "display_data",
          "data": {
            "text/plain": [
              "<Figure size 640x480 with 3 Axes>"
            ],
            "image/png": "[encoded data removed]"
          },
          "metadata": {}
        }
      ],
      "source": [
        "fig = plt.figure()\n",
        "plt.title('Digital filter frequency response')\n",
        "plt.subplot(2,1,1)\n",
        "plt.plot(w, 20 * np.log10(abs(h)), 'b')\n",
        "plt.ylabel('Magnitude (dB)')\n",
        "plt.xlabel('Normalized Frequency')\n",
        "plt.grid()\n",
        "ax = plt.gca()\n",
        "ax.xaxis.set_major_formatter(FuncFormatter(\n",
        "   lambda val,pos: '{:.0g}$\\pi$'.format(val/np.pi) if val !=0 else '0'\n",
        "))\n",
        "ax.xaxis.set_major_locator(MultipleLocator(base=0.66))\n",
        "plt.subplot(2,1,2)\n",
        "angles = np.angle(h)\n",
        "plt.plot(w, angles, 'g')\n",
        "plt.ylabel('Angle (radians)')\n",
        "plt.xlabel('Normalized Frequency')\n",
        "ax = plt.gca()\n",
        "ax.xaxis.set_major_formatter(FuncFormatter(\n",
        "   lambda val,pos: '{:.0g}$\\pi$'.format(val/np.pi) if val !=0 else '0'\n",
        "))\n",
        "ax.xaxis.set_major_locator(MultipleLocator(base=0.66))\n",
        "plt.grid()\n",
        "plt.tight_layout()\n"
      ]
    },
    {
      "cell_type": "markdown",
      "metadata": {
        "id": "ZqPqqvTlvaLS"
      },
      "source": [
        "Observe that the horizontal axis is the normalized frequency (see last lecture), its right hand side is $\\pi$, which is the Nyquist frequency or half the sampling frequency.\n",
        "\n",
        "The frequency response we see here has a low pass characteristic."
      ]
    },
    {
      "cell_type": "markdown",
      "metadata": {
        "id": "TRygdViAvaLS"
      },
      "source": [
        "We can use the command “zplane” (also in Moodle) to plot the location of the zeros and poles in the complex z-plane.\n",
        "For that we first need to calculate the pole an zero positions with Pythons function np.roots."
      ]
    },
    {
      "cell_type": "markdown",
      "metadata": {
        "id": "JOTfyghLvaLS"
      },
      "source": [
        "We have\n",
        "$$\\large\n",
        "H(z) = \\dfrac{1}{1-p \\cdot z^{-1}} $$\n",
        "\n",
        "and roots expects as argument the ordered coefficients of our polinomial in $z^-1$ (which makes it compatible with *lfilter*). Hence our pole positions are the `np.roots(a)` and the zeros at `np.roots(b)`."
      ]
    },
    {
      "cell_type": "code",
      "execution_count": 18,
      "metadata": {
        "id": "95fjqV0dvaLT"
      },
      "outputs": [],
      "source": [
        "def zplane(B,A):\n",
        "    # Plot Poles and Zeros\n",
        "    from  matplotlib import patches\n",
        "    plt.figure(figsize=(6,4))\n",
        "    ax = plt.subplot(111)\n",
        "    r = 1.5; plt.axis('scaled'); plt.axis([-r, r, -r, r])\n",
        "    #ticks = [-1, 1]; plt.xticks(ticks); plt.yticks(ticks)\n",
        "    # Unit Circle\n",
        "    uc = patches.Circle((0,0), radius=1, fill=False, color='black', ls='dashed')\n",
        "    ax.add_patch(uc)\n",
        "    ax.spines['left'].set_position('center')\n",
        "    ax.spines['bottom'].set_position('center')\n",
        "    ax.spines['right'].set_visible(False)\n",
        "    ax.spines['top'].set_visible(False)\n",
        "    plt.xlabel('Re', horizontalalignment='right', x=1.0)\n",
        "    plt.ylabel('Im',  y=1.0)\n",
        "    plt.title('Complex z-Plane', loc='right')\n",
        "    plt.grid()\n",
        "    plt.plot(np.real(A),np.imag(A),'rx')\n",
        "    plt.plot(np.real(B),np.imag(B),'bo')"
      ]
    },
    {
      "cell_type": "code",
      "execution_count": 19,
      "metadata": {
        "id": "cP4NhxuJvaLU",
        "outputId": "531a0e4a-6a03-4138-9b64-87fd98ee0629",
        "colab": {
          "base_uri": "https://localhost:8080/",
          "height": 375
        }
      },
      "outputs": [
        {
          "output_type": "display_data",
          "data": {
            "text/plain": [
              "<Figure size 600x400 with 1 Axes>"
            ],
            "image/png": "[encoded data removed]"
          },
          "metadata": {}
        }
      ],
      "source": [
        "zplane(np.roots(B),np.roots(A))"
      ]
    },
    {
      "cell_type": "markdown",
      "metadata": {
        "id": "0HP4UdZ2vaLU"
      },
      "source": [
        "**Zeros** are marked with an **“o”**, and **poles** are marked with an **“x”**. Here we see the pole at location z=0.9.\n",
        "\n",
        "In general, the **closer a pole** is to the **unit circle**, the larger is the corresponding **peak** in the **magnitude** of the frequency response at a **normalized** frequency identical to the **angle of the pole** to the origin.\n",
        "\n",
        "This can be seen by turning the z-transform into a DTFT by replacing z by $e^{j\\Omega}$. Hence the frequency response is obtained by “running” on this unit circle, $\\Omega$ is our angle and also normalized frequency, and the closer we get to a pole, the higher the magnitude of the frequency response becomes. This is opposite for zeros, the closer we come to a zero, the smaller magnitude of the frequency response becomes.\n",
        "\n",
        "Here our pole has an angle of 0 degrees. In the example we can indeed observe a peak in the magnitude response at normalized frequency $\\Omega=0$ above.\n",
        "\n",
        "The **filtering** operation itself works similarly in Matlab or Octave or Python, in the time domain. The function is “filter” or “lfilter”. Given an input signal in the vector x, and filter coefficients in vectors A and B, the filtered output y of our filter is simply:\n",
        "\n",
        "```y=lfilter(B,A,x);```\n",
        "\n",
        "Often used orders for the zeros and poles L and R are a few to a few dozen coefficients."
      ]
    },
    {
      "cell_type": "markdown",
      "metadata": {
        "id": "-Amo3DWtvaLV"
      },
      "source": [
        "**Python example:**\n",
        "\n",
        "Use the function *`lfilter`* to obtain the impulse response of this IIR filter.\n",
        "        "
      ]
    },
    {
      "cell_type": "code",
      "execution_count": null,
      "metadata": {
        "hide_input": true,
        "id": "YE6cEhhNvaLV",
        "outputId": "5e36cbbc-0048-4982-c0c8-b230ebdf3e6f"
      },
      "outputs": [
        {
          "data": {
            "text/html": [
              "<iframe width=\"560\" height=\"315\" src=\"https://www.youtube.com/embed/T4tpZkugC7U\" frameborder=\"0\" allow=\"accelerometer; encrypted-media; gyroscope; picture-in-picture\" allowfullscreen></iframe>\n"
            ],
            "text/plain": [
              "<IPython.core.display.HTML object>"
            ]
          },
          "metadata": {},
          "output_type": "display_data"
        }
      ],
      "source": [
        "%%html\n",
        "<iframe width=\"560\" height=\"315\" src=\"https://www.youtube.com/embed/T4tpZkugC7U\" frameborder=\"0\" allow=\"accelerometer; encrypted-media; gyroscope; picture-in-picture\" allowfullscreen></iframe>"
      ]
    },
    {
      "cell_type": "code",
      "execution_count": 21,
      "metadata": {
        "id": "WhxgSvDrvaLW",
        "outputId": "2b16a75f-ee79-4f17-c5da-d941db65ac86",
        "colab": {
          "base_uri": "https://localhost:8080/",
          "height": 449
        }
      },
      "outputs": [
        {
          "output_type": "display_data",
          "data": {
            "text/plain": [
              "<Figure size 640x480 with 1 Axes>"
            ],
            "image/png": "[encoded data removed]"
          },
          "metadata": {}
        }
      ],
      "source": [
        "import scipy.signal\n",
        "import matplotlib.pyplot as plt\n",
        "#Start with a unit pulse as input x:\n",
        "x=np.zeros(30)\n",
        "x[0] = 1\n",
        "#B and A are given as before:\n",
        "A=[1,-0.9];\n",
        "B=[1];\n",
        "#Now calculate the impulse response:\n",
        "y=scipy.signal.lfilter(B,A,x);\n",
        "plt.figure()\n",
        "plt.stem(y)\n",
        "plt.xlabel('Sample')\n",
        "plt.ylabel('Value')\n",
        "plt.grid()\n"
      ]
    },
    {
      "cell_type": "markdown",
      "metadata": {
        "id": "5mWQ9F87vaLW"
      },
      "source": [
        "Here we can see the indeed exponetial decaying function (the sequence $ir(n)=p^{n}$ for p=0.9). In this way we can also test more complicated IIR filters.\n",
        "\n",
        "This exponential decaying impulse response again shows the stability of the filter, which was to be expected because the pole of its transfer function in the z-domain is placed at z=0.9, and hence inside the unit-circle!"
      ]
    },
    {
      "cell_type": "code",
      "execution_count": null,
      "metadata": {
        "id": "8iRrxCbrvaLW"
      },
      "outputs": [],
      "source": []
    }
  ],
  "metadata": {
    "kernelspec": {
      "display_name": "Python 3",
      "language": "python",
      "name": "python3"
    },
    "language_info": {
      "codemirror_mode": {
        "name": "ipython",
        "version": 3
      },
      "file_extension": ".py",
      "mimetype": "text/x-python",
      "name": "python",
      "nbconvert_exporter": "python",
      "pygments_lexer": "ipython3",
      "version": "3.7.5"
    },
    "livereveal": {
      "rise": {
        "height": "90%",
        "width": "90%"
      },
      "scroll": true,
      "theme": "sky",
      "transition": "zoom"
    },
    "colab": {
      "provenance": []
    }
  },
  "nbformat": 4,
  "nbformat_minor": 0
}