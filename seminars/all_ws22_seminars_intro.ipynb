{
  "cells": [
    {
      "cell_type": "markdown",
      "source": [
        "# AMS TUI Seminars Introduction"
      ],
      "metadata": {
        "id": "zrxOpr_oxb-t"
      }
    },
    {
      "cell_type": "markdown",
      "metadata": {
        "id": "ROoAWqqQ48zR"
      },
      "source": [
        "# General Information"
      ]
    },
    {
      "cell_type": "markdown",
      "metadata": {
        "id": "YY5XD3Vs48zS"
      },
      "source": [
        " - Instructors: <br>Dr. Muhammad Imran -\n",
        "muhammad.imran@tu-ilmenau.de <br> Renato Profeta - renato.profeta@tu-ilmenau.de\n",
        " - Seminars will be either in presence, or online. Some seminars will ONLY be online.\n",
        " - We will discuss the format of the seminars (presence/online) to see what suits us best.\n",
        " - For the online seminars we will use `Jitsi` and the link to the jitsi room is available at the course page in Moodle.\n",
        " - Each seminar has to be done from one seminar to the next.\n",
        " - Check the course page constantly for changes in dates, format, materials updates, etc.\n"
      ]
    },
    {
      "cell_type": "markdown",
      "metadata": {
        "id": "Nj-f-Ffi48zT"
      },
      "source": [
        "## Registration"
      ]
    },
    {
      "cell_type": "markdown",
      "metadata": {
        "hide_input": true,
        "id": "cEInhtMW48zT"
      },
      "source": [
        "To register for the seminars you MUST fill the form below. Only this way we can create your account in our `nbgrader` system with the correct information."
      ]
    },
    {
      "cell_type": "code",
      "execution_count": null,
      "metadata": {
        "cellView": "form",
        "hide_input": true,
        "id": "oZnZaUpo48zT",
        "outputId": "6b7598cd-ac5b-4a81-c744-1d0574efbdee",
        "scrolled": false,
        "colab": {
          "base_uri": "https://localhost:8080/",
          "height": 1000
        }
      },
      "outputs": [
        {
          "output_type": "display_data",
          "data": {
            "text/plain": [
              "<IPython.core.display.HTML object>"
            ],
            "text/html": [
              "<a href=\"https://forms.gle/gem4csiCw85BkYGQA\" target=\"_blank\">Registration Form</a>\n",
              "<iframe src=\"https://docs.google.com/forms/d/e/1FAIpQLSdQuWtj-1wBXv5tWvBza5Xj8dpT-dUctzRaxezfdZCowqUDMA/viewform?embedded=true\" width=\"640\" height=\"1864\" frameborder=\"0\" marginheight=\"0\" marginwidth=\"0\">Loading…</iframe>\n"
            ]
          },
          "metadata": {}
        }
      ],
      "source": [
        "#@title\n",
        "%%html\n",
        "<a href=\"https://forms.gle/gem4csiCw85BkYGQA\" target=\"_blank\">Registration Form</a>\n",
        "<iframe src=\"https://docs.google.com/forms/d/e/1FAIpQLSdQuWtj-1wBXv5tWvBza5Xj8dpT-dUctzRaxezfdZCowqUDMA/viewform?embedded=true\" width=\"640\" height=\"1864\" frameborder=\"0\" marginheight=\"0\" marginwidth=\"0\">Loading…</iframe>"
      ]
    },
    {
      "cell_type": "markdown",
      "metadata": {
        "id": "Za6AE48g48zV"
      },
      "source": [
        "Only after submitting your response, we will be able to register you in our system and share the exchange folder in Nextcloud that is used to fetch and submit assignments."
      ]
    },
    {
      "cell_type": "markdown",
      "metadata": {
        "id": "dezNC0hF48zX"
      },
      "source": [
        "# Requirements"
      ]
    },
    {
      "cell_type": "markdown",
      "metadata": {
        "id": "OTD99nz148zY"
      },
      "source": [
        " - For these seminars you MUST use LINUX. It's not possible to submit the assignments using a different operating system.\n",
        " - At the Applied Media Systems Group we use Ubuntu. If you want to use a different Linux flavor you are on your own. If you use Ubuntu we can try to help you in case you have problems.\n",
        " - The assignments are to be solved using `Python` and `Jupyter Notebooks`.\n",
        " - The assignments are retrived and submitted using `nbgrader` and `NextCloud`."
      ]
    },
    {
      "cell_type": "markdown",
      "metadata": {
        "id": "LuvHxXhWgQUi"
      },
      "source": [
        "## Jitsi"
      ]
    },
    {
      "cell_type": "markdown",
      "metadata": {
        "id": "BJc2FaG4gQUi"
      },
      "source": [
        "- `Jitsi`is a collection of free and open-source multiplatform voice, video conferencing and instant messaging applications for the web platform, Windows, Linux, macOS, iOS and Android.\n",
        "- You find the link to our Jitsi channel at the course Moodle's page."
      ]
    },
    {
      "cell_type": "markdown",
      "metadata": {
        "id": "DVEi2WpV48zY"
      },
      "source": [
        "## Linux"
      ]
    },
    {
      "cell_type": "markdown",
      "metadata": {
        "id": "-fa_qqI948zY"
      },
      "source": [
        "There are basically 3 options how you can use Linux:\n",
        " - Main operating system.\n",
        " - Dual Boot.\n",
        " - Virtual Machine."
      ]
    },
    {
      "cell_type": "markdown",
      "metadata": {
        "id": "8bJ4yW1P48zZ"
      },
      "source": [
        "### Main operating system"
      ]
    },
    {
      "cell_type": "markdown",
      "metadata": {
        "id": "JomqPimG48zZ"
      },
      "source": [
        "<a href=\"https://ubuntu.com/tutorials/install-ubuntu-desktop#1-overview\" target=\"_blank\">Install Ubuntu</a>"
      ]
    },
    {
      "cell_type": "markdown",
      "metadata": {
        "id": "fw7-aFxC48zZ"
      },
      "source": [
        "### Dual Boot"
      ]
    },
    {
      "cell_type": "markdown",
      "metadata": {
        "hide_input": false,
        "id": "5lcFVbng48za"
      },
      "source": [
        "<a href=\"https://linuxconfig.org/how-to-install-ubuntu-20-04-alongside-windows-10-dual-boot\" target=\"_blank\">Install Ubuntu alongside Windows: Dual Boot</a>"
      ]
    },
    {
      "cell_type": "markdown",
      "metadata": {
        "id": "usT4zq7b48zb"
      },
      "source": [
        "### VirtualBox"
      ]
    },
    {
      "cell_type": "markdown",
      "metadata": {
        "hide_input": false,
        "id": "9cSpWrxA48zb"
      },
      "source": [
        "<a href=\"https://ubuntu.com/tutorials/how-to-run-ubuntu-desktop-on-a-virtual-machine-using-virtualbox#1-overview\" target=\"_blank\">Install Ubuntu on a Virtual Machine</a>"
      ]
    },
    {
      "cell_type": "markdown",
      "metadata": {
        "id": "-XZDYuT-48zc"
      },
      "source": [
        "## Python"
      ]
    },
    {
      "cell_type": "markdown",
      "metadata": {
        "id": "uTm4KcDA48zd"
      },
      "source": [
        " - We use <a href=\"https://www.python.org/\" target=\"_blank\">`Python`</a>in the course Videocoding. \n",
        " - If you are not familiar with `Python` you should start getting familiar with it as fast as possible.\n",
        " - I can recommend two tutorials:\n",
        "     - Very Basic of Python Tutorial: <a href=\"https://github.com/GuitarsAI/PythonBasicsTutorial/blob/master/Python%20Basics.ipynb\" target=\"_blank\">A very basic python tutorial to get you started, very short in a cheat-sheet style.</a>\n",
        "     - Basics of Digital Audio Signal Processing and Machine Learning using Python: <a href=\"https://github.com/GuitarsAI/BDASPML\" target=\"_blank\">This is a from zero to hero series in which we learn fundamentals of Audio DSP and Machine Learning for Audio side-by-side with learning Python Programming and vice-versa </a> "
      ]
    },
    {
      "cell_type": "code",
      "execution_count": null,
      "metadata": {
        "cellView": "form",
        "hide_input": true,
        "id": "IhYHo49x48zd",
        "outputId": "80111bd8-4123-4223-a081-9c9285580a39"
      },
      "outputs": [
        {
          "data": {
            "text/html": [
              "<a href=\"https://youtube.com/playlist?list=PL6QnpHKwdPYi-600wCa4PPIrP2DpgKqFk\" target=\"_blank\">Basics for Digital Audio Signal Processing and Machine Learning for Audio</a>\n",
              "<br>\n",
              "<iframe width=\"560\" height=\"315\" src=\"https://www.youtube.com/embed/videoseries?list=PL6QnpHKwdPYi-600wCa4PPIrP2DpgKqFk\" title=\"YouTube video player\" frameborder=\"0\" allow=\"accelerometer; clipboard-write; encrypted-media; gyroscope; picture-in-picture\" allowfullscreen></iframe>\n"
            ],
            "text/plain": [
              "<IPython.core.display.HTML object>"
            ]
          },
          "metadata": {},
          "output_type": "display_data"
        }
      ],
      "source": [
        "#@title\n",
        "%%html\n",
        "<a href=\"https://youtube.com/playlist?list=PL6QnpHKwdPYi-600wCa4PPIrP2DpgKqFk\" target=\"_blank\">Basics for Digital Audio Signal Processing and Machine Learning for Audio</a>\n",
        "<br>\n",
        "<iframe width=\"560\" height=\"315\" src=\"https://www.youtube.com/embed/videoseries?list=PL6QnpHKwdPYi-600wCa4PPIrP2DpgKqFk\" title=\"YouTube video player\" frameborder=\"0\" allow=\"accelerometer; clipboard-write; encrypted-media; gyroscope; picture-in-picture\" allowfullscreen></iframe>"
      ]
    },
    {
      "cell_type": "markdown",
      "metadata": {
        "id": "JtM-Lh2Y48ze"
      },
      "source": [
        "- Python comes preinstalled in Ubuntu.\n",
        "- However, I highly recommend that you use a `Virtual Environment`.\n",
        "- I recommend basically two types of `Virtual Environments`:\n",
        "    - <a href=\"https://docs.python.org/3/library/venv.html\" target=\"_blank\">`Conda:`Package, dependency and environment management for any language - Python, R, Ruby, Lua, Scala, Java, JavaScript, C/ C++, FORTRAN, and more.`</a>\n",
        "    - <a href=\"https://docs.conda.io/en/latest/\" target=\"_blank\">`venv:`Allow you to manage separate python package installations for different projects.</a>\n",
        "- <a href=\"https://www.anaconda.com/\" target=\"_blank\">`Anaconda:` A very nice solution that combines a Python distribution, dependency and enviromnet management using `conda` and preinstalled `Python` packages.</a>\n",
        " "
      ]
    },
    {
      "cell_type": "code",
      "execution_count": null,
      "metadata": {
        "hide_input": true,
        "cellView": "form",
        "id": "B6GrL3q8gQUo",
        "outputId": "44464436-2318-446e-9df2-01f169cbc67e"
      },
      "outputs": [
        {
          "data": {
            "text/html": [
              "<a href=\"https://youtu.be/o17UQRWf3Hk\" target=\"_blank\">Installing Anaconda on Ubuntu 20.04 and Creating a Conda Environment</a>\n",
              "<br>\n",
              "<iframe width=\"560\" height=\"315\" src=\"https://www.youtube.com/embed/o17UQRWf3Hk?start=214\" title=\"YouTube video player\" frameborder=\"0\" allow=\"accelerometer; autoplay; clipboard-write; encrypted-media; gyroscope; picture-in-picture\" allowfullscreen></iframe>\n"
            ],
            "text/plain": [
              "<IPython.core.display.HTML object>"
            ]
          },
          "metadata": {},
          "output_type": "display_data"
        }
      ],
      "source": [
        "#@title\n",
        "%%html\n",
        "<a href=\"https://youtu.be/o17UQRWf3Hk\" target=\"_blank\">Installing Anaconda on Ubuntu 20.04 and Creating a Conda Environment</a>\n",
        "<br>\n",
        "<iframe width=\"560\" height=\"315\" src=\"https://www.youtube.com/embed/o17UQRWf3Hk?start=214\" title=\"YouTube video player\" frameborder=\"0\" allow=\"accelerometer; autoplay; clipboard-write; encrypted-media; gyroscope; picture-in-picture\" allowfullscreen></iframe>"
      ]
    },
    {
      "cell_type": "markdown",
      "metadata": {
        "id": "Wz2il7VH48ze"
      },
      "source": [
        "## Jupyter Notebooks"
      ]
    },
    {
      "cell_type": "markdown",
      "metadata": {
        "hide_input": true,
        "id": "E3a79NC_48zf"
      },
      "source": [
        " - We use `Jupyter Notebooks` in the course Videocoding.\n",
        " - <a href=\"https://jupyter.org/\" target=\"_blank\">The `Jupyter Notebook:`is a web-based interactive computing platform. The notebook combines live code, equations, narrative text, visualizations, ...</a>\n",
        " - Installing `Jupyter Notebooks` depends on the `Virtual Environment`that you chose:\n",
        "     - <a href=\"https://jupyter.org/install\" target=\"_blank\">Installation using `venv` or without a virtual environment.</a>\n",
        "     - <a href=\"https://docs.jupyter.org/en/latest/install/notebook-classic.html\" target=\"_blank\">Installation using `Anaconda`.</a>\n",
        " - If you are not familiar with `Jupyter Notebooks`I can recommend the following tutorials: <a href=\"https://youtube.com/playlist?list=PL6QnpHKwdPYgKlgb9MjaGVlN9YPEWdGkJ\" target=\"_blank\">Introduction to `Google Colab` for Research.</a> (The first 3 Tutorials).\n",
        " - `Google Colab`is a cloud solution based on `Jupyter Notebooks`. There are a few differences but the basic concepts are the same.\n",
        " "
      ]
    },
    {
      "cell_type": "code",
      "execution_count": null,
      "metadata": {
        "cellView": "form",
        "hide_input": true,
        "id": "NspRBreI48zf",
        "outputId": "2ca1d9d9-f7f1-4073-ac90-543c42bdb566"
      },
      "outputs": [
        {
          "data": {
            "text/html": [
              "<a href=\"https://youtube.com/playlist?list=PL6QnpHKwdPYgKlgb9MjaGVlN9YPEWdGkJ\" target=\"_blank\">Introduction to `Google Colab` for Research.</a>\n",
              "<br>\n",
              "<iframe width=\"560\" height=\"315\" src=\"https://www.youtube.com/embed/videoseries?list=PL6QnpHKwdPYgKlgb9MjaGVlN9YPEWdGkJ\" title=\"YouTube video player\" frameborder=\"0\" allow=\"accelerometer; clipboard-write; encrypted-media; gyroscope; picture-in-picture\" allowfullscreen></iframe>\n"
            ],
            "text/plain": [
              "<IPython.core.display.HTML object>"
            ]
          },
          "metadata": {},
          "output_type": "display_data"
        }
      ],
      "source": [
        "#@title\n",
        "%%html\n",
        "<a href=\"https://youtube.com/playlist?list=PL6QnpHKwdPYgKlgb9MjaGVlN9YPEWdGkJ\" target=\"_blank\">Introduction to `Google Colab` for Research.</a>\n",
        "<br>\n",
        "<iframe width=\"560\" height=\"315\" src=\"https://www.youtube.com/embed/videoseries?list=PL6QnpHKwdPYgKlgb9MjaGVlN9YPEWdGkJ\" title=\"YouTube video player\" frameborder=\"0\" allow=\"accelerometer; clipboard-write; encrypted-media; gyroscope; picture-in-picture\" allowfullscreen></iframe>"
      ]
    },
    {
      "cell_type": "markdown",
      "metadata": {
        "id": "gfcWYxvu48zf"
      },
      "source": [
        "## NextCloud"
      ]
    },
    {
      "cell_type": "markdown",
      "metadata": {
        "id": "CSpLxDzt48zg"
      },
      "source": [
        " - `Nextcloud`  is a suite of client-server software for creating and using file hosting services.\n",
        " - As a student at TU Ilmenau you have access to the <a href=\"https://cloud.tu-ilmenau.de/login\" target=\"_blank\">TU Ilmenau NextCloud.</a>"
      ]
    },
    {
      "cell_type": "markdown",
      "metadata": {
        "id": "NTAYeshu48zg"
      },
      "source": [
        "### Mounting a TUI Nextcloud folder in your Ubuntu system"
      ]
    },
    {
      "cell_type": "code",
      "source": [
        "#@title\n",
        "%%html\n",
        "<a href=\"https://youtu.be/uvdSExZLjcg\" target=\"_blank\"> Accessing Nextcloud files using WebDAV </a>\n",
        "<br>\n",
        "<iframe width=\"560\" height=\"315\" src=\"https://www.youtube.com/embed/uvdSExZLjcg\" title=\"YouTube video player\" frameborder=\"0\" allow=\"accelerometer; autoplay; clipboard-write; encrypted-media; gyroscope; picture-in-picture\" allowfullscreen></iframe>"
      ],
      "metadata": {
        "colab": {
          "base_uri": "https://localhost:8080/",
          "height": 353
        },
        "cellView": "form",
        "id": "Qc79NXP3NH1B",
        "outputId": "54aaaf0f-7dde-4efe-b7a6-fabc7e598c16"
      },
      "execution_count": 1,
      "outputs": [
        {
          "output_type": "display_data",
          "data": {
            "text/plain": [
              "<IPython.core.display.HTML object>"
            ],
            "text/html": [
              "<a href=\"https://youtu.be/uvdSExZLjcg\" target=\"_blank\"> Accessing Nextcloud files using WebDAV </a>\n",
              "<br>\n",
              "<iframe width=\"560\" height=\"315\" src=\"https://www.youtube.com/embed/uvdSExZLjcg\" title=\"YouTube video player\" frameborder=\"0\" allow=\"accelerometer; autoplay; clipboard-write; encrypted-media; gyroscope; picture-in-picture\" allowfullscreen></iframe>\n"
            ]
          },
          "metadata": {}
        }
      ]
    },
    {
      "cell_type": "markdown",
      "source": [
        "To get access to our shared Nextcloud server, we can mount it in Ubuntu linux. If you setup a new\n",
        "Ubuntu, it will aks you if you want to connect to Nextcloud, and if yes, it will do this for you\n",
        "automatically. If you have an existing Ubuntu, you can use the following steps,\n",
        "according to:\n",
        "https://docs.nextcloud.com/server/20/user_manual/en/files/access_webdav.html\n"
      ],
      "metadata": {
        "id": "glU8GCW1y_vA"
      }
    },
    {
      "cell_type": "markdown",
      "metadata": {
        "id": "uRH6Im3n48zg"
      },
      "source": [
        "(replace “schuller” by your user name)\n",
        "\n",
        "sudo apt install davfs2\n",
        "\n",
        "sudo usermod -aG davfs2 schuller\n",
        "\n",
        "mkdir ~/nextcloud_mount\n",
        "\n",
        "mkdir ~/.davfs2\n",
        "\n",
        "sudo cp /etc/davfs2/secrets .davfs2/secrets\n",
        "\n",
        "sudo chown schuller:schuller .davfs2/secrets\n",
        "\n",
        "chmod 600 ~/.davfs2/secrets\n",
        "\n",
        "cd .davfs2/\n",
        "\n",
        "gedit secrets &\n",
        "\n",
        "In the editor, append Nextcloud mount point (directory) and Nextcloud user name:\n",
        "/home/schuller/nextcloud_mount gschull\n",
        "\n",
        "sudo gedit /etc/fstab\n",
        "\n",
        "In the editor, append (Nextcloud server path, mount point, options, one line):\n",
        "https://cloud.tu-ilmenau.de/remote.php/dav/files/gschull/ /home/schuller/nextcloud_mount davfs\n",
        "user,rw,auto 0 0\n",
        "\n",
        "\n",
        "cd #back to home directory\n",
        "\n",
        "mount nextcloud_mount #mount nextcloud\n",
        "\n",
        "cd nextcloud_mount #should be now in mounted Nextcloud\n",
        "\n",
        "\\#When done, unmount with:\n",
        "\n",
        "umount ~/nextcloud_moun\n"
      ]
    },
    {
      "cell_type": "markdown",
      "metadata": {
        "id": "lOv9sqTQ48zg"
      },
      "source": [
        "## NBgrader"
      ]
    },
    {
      "cell_type": "markdown",
      "metadata": {
        "id": "ohWz1r_v48zg"
      },
      "source": [
        " - We will use `nbgrader` for managing and evaluating students homeworks.\n",
        " - <a href=\"https://nbgrader.readthedocs.io/en/stable/\" target=\"_blank\">The `nbgrader:`is a tool that facilitates creating and grading assignments in the Jupyter notebook.</a>\n",
        " - Installing `nbgrader` depends on the `Virtual Environment`that you chose:\n",
        "     - <a href=\"https://nbgrader.readthedocs.io/en/stable/user_guide/installation.html\" target=\"_blank\">Installation using `venv`, without a virtual environment or using `conda`.</a>"
      ]
    },
    {
      "cell_type": "code",
      "execution_count": null,
      "metadata": {
        "hide_input": true,
        "cellView": "form",
        "id": "9AnwYE1FgQUr",
        "outputId": "4c2b15e2-ff2d-43db-f84c-0c825ee2cb33"
      },
      "outputs": [
        {
          "data": {
            "text/html": [
              "<a href=\"https://youtu.be/o17UQRWf3Hk?t=214\" target=\"_blank\">Installing NBGrader</a>\n",
              "<br>\n",
              "<iframe width=\"560\" height=\"315\" src=\"https://www.youtube.com/embed/o17UQRWf3Hk?start=214\" title=\"YouTube video player\" frameborder=\"0\" allow=\"accelerometer; autoplay; clipboard-write; encrypted-media; gyroscope; picture-in-picture\" allowfullscreen></iframe>\n"
            ],
            "text/plain": [
              "<IPython.core.display.HTML object>"
            ]
          },
          "metadata": {},
          "output_type": "display_data"
        }
      ],
      "source": [
        "#@title\n",
        "%%html\n",
        "<a href=\"https://youtu.be/o17UQRWf3Hk?t=214\" target=\"_blank\">Installing NBGrader</a>\n",
        "<br>\n",
        "<iframe width=\"560\" height=\"315\" src=\"https://www.youtube.com/embed/o17UQRWf3Hk?start=214\" title=\"YouTube video player\" frameborder=\"0\" allow=\"accelerometer; autoplay; clipboard-write; encrypted-media; gyroscope; picture-in-picture\" allowfullscreen></iframe>"
      ]
    },
    {
      "cell_type": "markdown",
      "source": [
        "### Configuring NBGrader to use Nextcloud Exchange Folder"
      ],
      "metadata": {
        "id": "3HPGDXasNwhi"
      }
    },
    {
      "cell_type": "code",
      "source": [
        "#@title\n",
        "%%html\n",
        "<iframe width=\"560\" height=\"315\" src=\"https://www.youtube.com/embed/CHh8SNdNE7c\" title=\"YouTube video player\" frameborder=\"0\" allow=\"accelerometer; autoplay; clipboard-write; encrypted-media; gyroscope; picture-in-picture\" allowfullscreen></iframe>"
      ],
      "metadata": {
        "colab": {
          "base_uri": "https://localhost:8080/",
          "height": 336
        },
        "cellView": "form",
        "id": "l6fEbE3DN0r-",
        "outputId": "b5c36ba2-8eb1-4100-f2f7-e03e01c26496"
      },
      "execution_count": 2,
      "outputs": [
        {
          "output_type": "display_data",
          "data": {
            "text/plain": [
              "<IPython.core.display.HTML object>"
            ],
            "text/html": [
              "<iframe width=\"560\" height=\"315\" src=\"https://www.youtube.com/embed/CHh8SNdNE7c\" title=\"YouTube video player\" frameborder=\"0\" allow=\"accelerometer; autoplay; clipboard-write; encrypted-media; gyroscope; picture-in-picture\" allowfullscreen></iframe>\n"
            ]
          },
          "metadata": {}
        }
      ]
    },
    {
      "cell_type": "markdown",
      "source": [
        "### Fetching and Submitting NBGRader Assignments"
      ],
      "metadata": {
        "id": "6gr757jFRZm1"
      }
    },
    {
      "cell_type": "code",
      "source": [
        "#@title\n",
        "%%html\n",
        "<iframe width=\"560\" height=\"315\" src=\"https://www.youtube.com/embed/FH41yzc8xns\" title=\"YouTube video player\" frameborder=\"0\" allow=\"accelerometer; autoplay; clipboard-write; encrypted-media; gyroscope; picture-in-picture\" allowfullscreen></iframe>"
      ],
      "metadata": {
        "colab": {
          "base_uri": "https://localhost:8080/",
          "height": 336
        },
        "cellView": "form",
        "id": "ZedwJ9LKRUDc",
        "outputId": "82293e4d-79f5-4145-dd04-341eec32939c"
      },
      "execution_count": 3,
      "outputs": [
        {
          "output_type": "display_data",
          "data": {
            "text/plain": [
              "<IPython.core.display.HTML object>"
            ],
            "text/html": [
              "<iframe width=\"560\" height=\"315\" src=\"https://www.youtube.com/embed/FH41yzc8xns\" title=\"YouTube video player\" frameborder=\"0\" allow=\"accelerometer; autoplay; clipboard-write; encrypted-media; gyroscope; picture-in-picture\" allowfullscreen></iframe>\n"
            ]
          },
          "metadata": {}
        }
      ]
    },
    {
      "cell_type": "markdown",
      "source": [
        "### NBGrader Workflow - Fetching, Submitting, Feedback - Command "
      ],
      "metadata": {
        "id": "LAdrG4_wSHFb"
      }
    },
    {
      "cell_type": "code",
      "source": [
        "#@title\n",
        "%%html\n",
        "<iframe width=\"560\" height=\"315\" src=\"https://www.youtube.com/embed/zYGQ8LPlbD4\" title=\"YouTube video player\" frameborder=\"0\" allow=\"accelerometer; autoplay; clipboard-write; encrypted-media; gyroscope; picture-in-picture\" allowfullscreen></iframe>"
      ],
      "metadata": {
        "colab": {
          "base_uri": "https://localhost:8080/",
          "height": 336
        },
        "cellView": "form",
        "id": "eFJLYPn-RuN6",
        "outputId": "177b0b15-5a2e-46a7-afd5-be13269b8c41"
      },
      "execution_count": 4,
      "outputs": [
        {
          "output_type": "display_data",
          "data": {
            "text/plain": [
              "<IPython.core.display.HTML object>"
            ],
            "text/html": [
              "<iframe width=\"560\" height=\"315\" src=\"https://www.youtube.com/embed/zYGQ8LPlbD4\" title=\"YouTube video player\" frameborder=\"0\" allow=\"accelerometer; autoplay; clipboard-write; encrypted-media; gyroscope; picture-in-picture\" allowfullscreen></iframe>\n"
            ]
          },
          "metadata": {}
        }
      ]
    },
    {
      "cell_type": "markdown",
      "source": [
        "## Seminars Resources"
      ],
      "metadata": {
        "id": "IDe6fvPWS98a"
      }
    },
    {
      "cell_type": "markdown",
      "source": [
        "TUI AMS Github: [https://github.com/TUIlmenauAMS](https://github.com/TUIlmenauAMS)\n",
        "\n",
        "YouTube: [https://www.youtube.com/c/GuitarsAI/](https://www.youtube.com/c/GuitarsAI/)"
      ],
      "metadata": {
        "id": "FVeyLqFTTJhg"
      }
    },
    {
      "cell_type": "code",
      "source": [],
      "metadata": {
        "id": "6avnd4a5TeB1"
      },
      "execution_count": null,
      "outputs": []
    }
  ],
  "metadata": {
    "colab": {
      "provenance": [],
      "collapsed_sections": []
    },
    "kernelspec": {
      "display_name": "Python 3",
      "language": "python",
      "name": "python3"
    },
    "language_info": {
      "codemirror_mode": {
        "name": "ipython",
        "version": 3
      },
      "file_extension": ".py",
      "mimetype": "text/x-python",
      "name": "python",
      "nbconvert_exporter": "python",
      "pygments_lexer": "ipython3",
      "version": "3.6.15"
    },
    "toc": {
      "base_numbering": 1,
      "nav_menu": {},
      "number_sections": true,
      "sideBar": true,
      "skip_h1_title": false,
      "title_cell": "Table of Contents",
      "title_sidebar": "Contents",
      "toc_cell": false,
      "toc_position": {},
      "toc_section_display": true,
      "toc_window_display": false
    }
  },
  "nbformat": 4,
  "nbformat_minor": 0
}